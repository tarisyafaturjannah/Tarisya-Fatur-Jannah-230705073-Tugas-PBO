{
  "nbformat": 4,
  "nbformat_minor": 0,
  "metadata": {
    "colab": {
      "name": "sesi6.ipynb",
      "provenance": [],
      "include_colab_link": true
    },
    "kernelspec": {
      "name": "python3",
      "display_name": "Python 3"
    }
  },
  "cells": [
    {
      "cell_type": "markdown",
      "metadata": {
        "id": "view-in-github",
        "colab_type": "text"
      },
      "source": [
        "<a href=\"https://colab.research.google.com/github/tarisyafaturjannah/Tarisya-Fatur-Jannah-230705073-Tugas-PBO/blob/main/sesi6.ipynb\" target=\"_parent\"><img src=\"https://colab.research.google.com/assets/colab-badge.svg\" alt=\"Open In Colab\"/></a>"
      ]
    },
    {
      "cell_type": "markdown",
      "metadata": {
        "id": "qTjxc14t23Ha"
      },
      "source": [
        "**Program Sederhana Membuat Tuple**"
      ]
    },
    {
      "cell_type": "code",
      "metadata": {
        "id": "F6_EVThE20TC",
        "colab": {
          "base_uri": "https://localhost:8080/"
        },
        "outputId": "c636cc2e-e822-4a50-aaeb-8f5a9cedc23f"
      },
      "source": [
        "# Deklarasi variabel stup1, stup2 dan stup3\n",
        "stup1 = ('bahasa korea', 'bahasa jepang', 2019, 2020)\n",
        "stup2 = (1, 2, 3, 4, 5, 6, 7, 8)\n",
        "stup3 = \"e\", \"f\", \"g\", \"h\"\n",
        "\n",
        "# Mengakses nilai pada variabel ketiga tupel diatas\n",
        "print (\"stup1[1]: \", stup1[1])\n",
        "print (\"stup2[1:5]: \", stup2[1:5])"
      ],
      "execution_count": 3,
      "outputs": [
        {
          "output_type": "stream",
          "name": "stdout",
          "text": [
            "stup1[1]:  bahasa jepang\n",
            "stup2[1:5]:  (2, 3, 4, 5)\n"
          ]
        }
      ]
    },
    {
      "cell_type": "markdown",
      "metadata": {
        "id": "9e5UgsZy4glk"
      },
      "source": [
        "**Mengakses Nilai Tuple**"
      ]
    },
    {
      "cell_type": "code",
      "metadata": {
        "id": "H35GakMK5MO8",
        "colab": {
          "base_uri": "https://localhost:8080/"
        },
        "outputId": "7ee9fcac-c872-4ab9-a2ea-7cb7e9cdb9b7"
      },
      "source": [
        "# Deklarasi Variabel ach\n",
        "ach = (\"Mie Bangladesh\", 10000, 3.5, True, 'AyamGeprek', 88j)\n",
        "\n",
        "# Mengakses nilai tuple\n",
        "# Data pertama indeks 0\n",
        "print(\"ach[0]:\", ach[0])\n",
        "# Data kedua indeks 1\n",
        "print(\"ach[1]:\", ach[1])\n",
        "# Data ketiga indeks 2\n",
        "print(\"ach[2]:\", ach[2])\n",
        "# Data antara indeks 2 dan 5\n",
        "print(\"ach[2:5]:\", ach[2:5])\n",
        "# Data dari indeks satu sampai indeks 3\n",
        "print(\"ach[:3]:\", ach[:3])\n",
        "# Data dari indeks 3 sampai dengan indeks seterusnya\n",
        "print(\"ach[3:]:\", ach[3:])\n",
        "# Data keseluruhan\n",
        "print(\"ach[:]:\", ach[:])"
      ],
      "execution_count": 4,
      "outputs": [
        {
          "output_type": "stream",
          "name": "stdout",
          "text": [
            "ach[0]: Mie Bangladesh\n",
            "ach[1]: 10000\n",
            "ach[2]: 3.5\n",
            "ach[2:5]: (3.5, True, 'AyamGeprek')\n",
            "ach[:3]: ('Mie Bangladesh', 10000, 3.5)\n",
            "ach[3:]: (True, 'AyamGeprek', 88j)\n",
            "ach[:]: ('Mie Bangladesh', 10000, 3.5, True, 'AyamGeprek', 88j)\n"
          ]
        }
      ]
    },
    {
      "cell_type": "markdown",
      "metadata": {
        "id": "_fX8pSaaXULb"
      },
      "source": [
        "**Membuat Tuple dari Kumpulan Tuple**"
      ]
    },
    {
      "cell_type": "code",
      "metadata": {
        "id": "Yq0upGZW4lJ0",
        "colab": {
          "base_uri": "https://localhost:8080/"
        },
        "outputId": "a0a726de-b545-495f-80c5-2b0906c0d78d"
      },
      "source": [
        "# Contoh menambah variabel baru pada daftar tuple\n",
        "stup1 = (10, 5.78)\n",
        "stup2 = ('def', 'opq')\n",
        "\n",
        "# Jika ditambah baris berikut:\n",
        "# stup1[0] = 100;\n",
        "# tidak bisa dilakukan pada tuple python\n",
        "\n",
        "# Jadi, buatlah variabel tuple baru sebagai berikut\n",
        "stup3 = stup1 + stup2\n",
        "print (stup3)\n",
        "\n",
        "del stup3\n",
        "print(\"setelah dihapus:\")"
      ],
      "execution_count": 12,
      "outputs": [
        {
          "output_type": "stream",
          "name": "stdout",
          "text": [
            "(10, 5.78, 'def', 'opq')\n",
            "setelah dihapus:\n"
          ]
        }
      ]
    }
  ]
}