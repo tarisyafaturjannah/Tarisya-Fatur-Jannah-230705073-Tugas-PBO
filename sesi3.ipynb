{
  "nbformat": 4,
  "nbformat_minor": 0,
  "metadata": {
    "colab": {
      "name": "sesi3.ipynb",
      "provenance": [],
      "include_colab_link": true
    },
    "kernelspec": {
      "name": "python3",
      "display_name": "Python 3"
    }
  },
  "cells": [
    {
      "cell_type": "markdown",
      "metadata": {
        "id": "view-in-github",
        "colab_type": "text"
      },
      "source": [
        "<a href=\"https://colab.research.google.com/github/tarisyafaturjannah/Tarisya-Fatur-Jannah-230705073-Tugas-PBO/blob/main/sesi3.ipynb\" target=\"_parent\"><img src=\"https://colab.research.google.com/assets/colab-badge.svg\" alt=\"Open In Colab\"/></a>"
      ]
    },
    {
      "cell_type": "markdown",
      "metadata": {
        "id": "HdQHl1DnS307"
      },
      "source": [
        "**Contoh sederhana perulangan for**"
      ]
    },
    {
      "cell_type": "code",
      "metadata": {
        "id": "UBsWfjkUS1ea",
        "colab": {
          "base_uri": "https://localhost:8080/"
        },
        "outputId": "9bfaff8b-3968-4154-fa63-e586eee58adb"
      },
      "source": [
        "# Deklarasi variabel contoh dan 10 itu sebagai tanda 10 kali perulangan\n",
        "contoh = 10\n",
        "\n",
        "# Variabel i berfungsi untuk menampung indeks,\n",
        "# dan fungsi range() berfungsi untuk membuat list dari 0-10.\n",
        "for i in range(contoh):\n",
        "    print (\"Perulangan ke-\" +str(i))"
      ],
      "execution_count": 2,
      "outputs": [
        {
          "output_type": "stream",
          "name": "stdout",
          "text": [
            "Perulangan ke-0\n",
            "Perulangan ke-1\n",
            "Perulangan ke-2\n",
            "Perulangan ke-3\n",
            "Perulangan ke-4\n",
            "Perulangan ke-5\n",
            "Perulangan ke-6\n",
            "Perulangan ke-7\n",
            "Perulangan ke-8\n",
            "Perulangan ke-9\n"
          ]
        }
      ]
    },
    {
      "cell_type": "code",
      "metadata": {
        "id": "5S1oZePQXuI7",
        "colab": {
          "base_uri": "https://localhost:8080/"
        },
        "outputId": "2af9020b-b752-4169-aa60-cd76faa28ff8"
      },
      "source": [
        "# Menampilkan range dari kumpulan deret tertentu\n",
        "# range(5,10) akan membuat deret angka mulai dari 5, 6, 7, 8, dan 9.\n",
        "\n",
        "for i in range(5,10):\n",
        "  print(i)"
      ],
      "execution_count": 3,
      "outputs": [
        {
          "output_type": "stream",
          "name": "stdout",
          "text": [
            "5\n",
            "6\n",
            "7\n",
            "8\n",
            "9\n"
          ]
        }
      ]
    },
    {
      "cell_type": "markdown",
      "metadata": {
        "id": "APu2517GUHmf"
      },
      "source": [
        "**Contoh menampilkan isi dalam body perulangan**"
      ]
    },
    {
      "cell_type": "code",
      "metadata": {
        "id": "XD8LlLIAUHMB",
        "colab": {
          "base_uri": "https://localhost:8080/"
        },
        "outputId": "ea028678-ca3e-428c-9dac-08df2a86e2fe"
      },
      "source": [
        "# Deklarasi variabel contoh2 dengan tipe list\n",
        "contoh2 = ['saya','suka','minum','kopi', 'gayo']\n",
        "\n",
        "for isi in contoh2:\n",
        "    print (isi)"
      ],
      "execution_count": 4,
      "outputs": [
        {
          "output_type": "stream",
          "name": "stdout",
          "text": [
            "saya\n",
            "suka\n",
            "minum\n",
            "kopi\n",
            "gayo\n"
          ]
        }
      ]
    },
    {
      "cell_type": "markdown",
      "metadata": {
        "id": "40KiZwfwU-yo"
      },
      "source": [
        "**Contoh menggunakan while**"
      ]
    },
    {
      "cell_type": "code",
      "metadata": {
        "id": "DuPUSTlcVD5a",
        "colab": {
          "base_uri": "https://localhost:8080/"
        },
        "outputId": "35e44aec-f898-4279-9d1e-604a78a7f3a6"
      },
      "source": [
        "# Deklarasi variabel hit\n",
        "hit = 0\n",
        "# Membuat kondisi\n",
        "while (hit < 5):\n",
        "    print(hit, \"kurang dari 5\")\n",
        "    hit = hit + 1\n",
        "else:\n",
        "# Menampilkan output salam jika kondisi sudah terpenuhi\n",
        "    print(\"Salammmm\")"
      ],
      "execution_count": 5,
      "outputs": [
        {
          "output_type": "stream",
          "name": "stdout",
          "text": [
            "0 kurang dari 5\n",
            "1 kurang dari 5\n",
            "2 kurang dari 5\n",
            "3 kurang dari 5\n",
            "4 kurang dari 5\n",
            "Salammmm\n"
          ]
        }
      ]
    },
    {
      "cell_type": "markdown",
      "metadata": {
        "id": "f2KqONtGF5ll"
      },
      "source": [
        "**Program Menghitung Harga Tiket Masuk**"
      ]
    },
    {
      "cell_type": "code",
      "metadata": {
        "id": "JWRgH3jFDAxD",
        "colab": {
          "base_uri": "https://localhost:8080/"
        },
        "outputId": "bbf94234-f338-4dab-8225-a36d9b3ec57a"
      },
      "source": [
        "\n",
        "# Program menghitung Faktor Persekutuan Terbesa\n",
        "\n",
        "# Membaca dua bilangan positif dari user\n",
        "n = int(input(\"Masukkan bilangan positif:\"))\n",
        "m = int(input(\"Masukkan bilangan positif:\"))\n",
        "\n",
        "# Inisialisasi variabel untuk nilai terkecil dari n dan m\n",
        "d = min(n, m)\n",
        "\n",
        "# Gunakan loop while untuk mencari FPT\n",
        "while n % d != 0 or m % d != 0:\n",
        "  d = d - 1\n",
        "\n",
        "# Menampilkan hasil\n",
        "print(\"Faktor persekutuan terbesar dari\", n, \"dan\", m, \" adalah\", d)\n",
        "\n"
      ],
      "execution_count": 6,
      "outputs": [
        {
          "output_type": "stream",
          "name": "stdout",
          "text": [
            "Masukkan bilangan positif:10\n",
            "Masukkan bilangan positif:20\n",
            "Faktor persekutuan terbesar dari 10 dan 20  adalah 10\n"
          ]
        }
      ]
    },
    {
      "cell_type": "markdown",
      "metadata": {
        "id": "6ziy9uooNU1w"
      },
      "source": [
        "**Program Mencari Nilai Maksimum dari 100 bilangan bulat**"
      ]
    },
    {
      "cell_type": "code",
      "metadata": {
        "id": "VMV99NcTNUEu",
        "colab": {
          "base_uri": "https://localhost:8080/"
        },
        "outputId": "6539c2fc-411b-4ab6-d1be-0806a97c83fa"
      },
      "source": [
        "\n",
        "# Menentukan nilai maksimum 100 bilangan bulat, menghitung berapa kali\n",
        "# perulangan\n",
        "\n",
        "from random import randrange\n",
        "\n",
        "BIL_ITEMS = 100\n",
        "\n",
        "# Generate the first number and menampilkan nya\n",
        "maks_nilai = randrange(1, BIL_ITEMS + 1)\n",
        "print(maks_nilai)\n",
        "\n",
        "# Menghitung berapa kali perubahan\n",
        "bil_update = 0\n",
        "\n",
        "# Untuk setiap bilangan\n",
        "for i in range(1, BIL_ITEMS):\n",
        "  # Generate bilangan acak\n",
        "  current = randrange(1, BIL_ITEMS + 1)\n",
        "\n",
        "  # Kondisi jika ditemukan bilangan terbesar\n",
        "  if current > maks_nilai:\n",
        "    # Update nilai maksimum dan hitung perubahan\n",
        "    maks_nilai = current\n",
        "    bil_update = bil_update + 1\n",
        "    # Tampilkan bilangan jika masih ada proses update\n",
        "    print(current, \"<== Update\")\n",
        "  else:\n",
        "    #Tampilkan bilangan\n",
        "    print(current)\n",
        "\n",
        "# Tampilkan Hasil Terakhir\n",
        "print(\" Nilai maksimum yang ditemukan adalah\", maks_nilai)\n",
        "print(\"Nilai maksimum yang di-update\", bil_update, \"kali\")"
      ],
      "execution_count": 7,
      "outputs": [
        {
          "output_type": "stream",
          "name": "stdout",
          "text": [
            "45\n",
            "31\n",
            "52 <== Update\n",
            "16\n",
            "46\n",
            "15\n",
            "75 <== Update\n",
            "65\n",
            "7\n",
            "89 <== Update\n",
            "71\n",
            "46\n",
            "81\n",
            "92 <== Update\n",
            "60\n",
            "32\n",
            "65\n",
            "49\n",
            "24\n",
            "20\n",
            "90\n",
            "74\n",
            "21\n",
            "98 <== Update\n",
            "30\n",
            "84\n",
            "56\n",
            "52\n",
            "13\n",
            "86\n",
            "43\n",
            "54\n",
            "92\n",
            "44\n",
            "95\n",
            "19\n",
            "64\n",
            "11\n",
            "20\n",
            "61\n",
            "75\n",
            "100 <== Update\n",
            "12\n",
            "78\n",
            "26\n",
            "27\n",
            "35\n",
            "71\n",
            "19\n",
            "44\n",
            "81\n",
            "66\n",
            "84\n",
            "18\n",
            "94\n",
            "46\n",
            "71\n",
            "16\n",
            "26\n",
            "20\n",
            "11\n",
            "99\n",
            "43\n",
            "38\n",
            "53\n",
            "96\n",
            "100\n",
            "40\n",
            "21\n",
            "79\n",
            "58\n",
            "99\n",
            "21\n",
            "21\n",
            "31\n",
            "21\n",
            "13\n",
            "96\n",
            "15\n",
            "44\n",
            "30\n",
            "13\n",
            "39\n",
            "40\n",
            "100\n",
            "11\n",
            "48\n",
            "63\n",
            "67\n",
            "57\n",
            "59\n",
            "74\n",
            "27\n",
            "21\n",
            "9\n",
            "99\n",
            "65\n",
            "2\n",
            "9\n",
            "80\n",
            " Nilai maksimum yang ditemukan adalah 100\n",
            "Nilai maksimum yang di-update 6 kali\n"
          ]
        }
      ]
    }
  ]
}